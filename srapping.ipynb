{
 "cells": [
  {
   "cell_type": "code",
   "execution_count": 1,
   "metadata": {},
   "outputs": [],
   "source": [
    "from bs4 import BeautifulSoup\n",
    "import requests"
   ]
  },
  {
   "cell_type": "code",
   "execution_count": 2,
   "metadata": {},
   "outputs": [],
   "source": [
    "def get_all_chiotte():\n",
    "    chiotte = []\n",
    "    # URL de la page à scraper\n",
    "    url = 'https://eu.toto.com/fr/produits/washlet'\n",
    "\n",
    "    # Récupération du contenu HTML de la page\n",
    "    response = requests.get(url)\n",
    "\n",
    "    # Analyse du contenu HTML avec BeautifulSoup\n",
    "    soup = BeautifulSoup(response.content, 'html.parser')\n",
    "\n",
    "    # Recherche de tous les liens sur la page\n",
    "    links = soup.find_all('a')\n",
    "\n",
    "    # Filtrage des liens qui commencent par l'URL spécifiée\n",
    "    washlet_links = []\n",
    "    for link in links:\n",
    "        href = link.get('href')\n",
    "        if href and href.startswith('/fr/produits/washlet'):\n",
    "            if href != ('/fr/produits/washlet'):\n",
    "                washlet_links.append(href)\n",
    "\n",
    "    # Affichage des URLs récupérées\n",
    "    for link in washlet_links:\n",
    "        chiotte.append(link)\n",
    "    return chiotte"
   ]
  },
  {
   "cell_type": "code",
   "execution_count": 3,
   "metadata": {},
   "outputs": [
    {
     "data": {
      "text/plain": [
       "['/fr/produits/washlet/CW522ERY',\n",
       " '/fr/produits/washlet/TCF996WGE%23NW1',\n",
       " '/fr/produits/washlet/TCF994RWGE',\n",
       " '/fr/produits/washlet/CW542ERY',\n",
       " '/fr/produits/washlet/TCF996RWG',\n",
       " '/fr/produits/washlet/TCF994RWG',\n",
       " '/fr/produits/washlet/TCF803CG',\n",
       " '/fr/produits/washlet/TCF804C2G',\n",
       " '/fr/produits/washlet/TCF801CG',\n",
       " '/fr/produits/washlet/TCF802C2G',\n",
       " '/fr/produits/washlet/TCF894CG',\n",
       " '/fr/produits/washlet/TCF895CG',\n",
       " '/fr/produits/washlet/TCF896CG',\n",
       " '/fr/produits/washlet/TCF897CG',\n",
       " '/fr/produits/washlet/TCF34270GEU',\n",
       " '/fr/produits/washlet/TCF34170GEU',\n",
       " '/fr/produits/washlet/TCF34120GEU',\n",
       " '/fr/produits/washlet/CW553EY',\n",
       " '/fr/produits/washlet/TCF34120GGB',\n",
       " '/fr/produits/washlet/TCF6532C3GV1',\n",
       " '/fr/produits/washlet/TCF6632G%23NW1']"
      ]
     },
     "execution_count": 3,
     "metadata": {},
     "output_type": "execute_result"
    }
   ],
   "source": [
    "get_all_chiotte()"
   ]
  },
  {
   "cell_type": "code",
   "execution_count": null,
   "metadata": {},
   "outputs": [],
   "source": [
    "len(get_all_chiotte())\n",
    "\n",
    "### probleme 21 resultats trouvé au lieu de 16"
   ]
  },
  {
   "cell_type": "code",
   "execution_count": null,
   "metadata": {},
   "outputs": [],
   "source": [
    "def info_chiotte(chiotte):\n",
    "    r = requests.get(chiotte)\n",
    "    soupe = BeautifulSoup(r.content, \"html.parser\")\n",
    "    chiottes = soupe.find_all(\"div\", {\"class\": \"callout secondary annuaire-single\"})\n",
    "    \n",
    "    for chiotte in chiottes:\n",
    "        try:\n",
    "            nom = \n",
    "        except AttributeError as e:\n",
    "            nom = \"\"\n",
    "        \n",
    "        try:\n",
    "            ean =\n",
    "        except AttributeError as e:\n",
    "            ean = \n",
    "        try:\n",
    "            dimension_en_mm = \n",
    "        except AttributeError as e:\n",
    "            adimension_en_mm = \"\"\n",
    "        \n",
    "        try:\n",
    "            couleur = avocat.find(\"span\", {\"class\": \"telephone\"}).text.strip()\n",
    "        except AttributeError as e:\n",
    "            couleur = \"\"\n",
    "        try:\n",
    "            materiel = avocat.find(\"span\", {\"class\": \"email\"}).a.text.strip()\n",
    "        except AttributeError as e:\n",
    "            materiel = \"\"\n",
    "        \n",
    "        # query= f\"\"\"INSERT INTO info_avocat(nom_prenom, adresse, telephone, mail) VALUES(\"{nom}\",\"{adresse_finale}\", \"{telephone}\", \"{email}\")\"\"\"\n",
    "        # cursor.execute(query)\n",
    "        # bdd.commit()\n",
    "\n",
    "        # chemin = r\"\"\".\\annuaire_avocat.txt\"\"\"\n",
    "        # with open(chemin, \"a\") as f:\n",
    "        #     f.write(f\"{nom}\\n\")\n",
    "        #     f.write(f\"{adresse_finale}\\n\")\n",
    "        #     f.write(f\"{telephone}\\n\")\n",
    "        #     f.write(f\"{email}\\n\\n\""
   ]
  }
 ],
 "metadata": {
  "kernelspec": {
   "display_name": "env",
   "language": "python",
   "name": "python3"
  },
  "language_info": {
   "codemirror_mode": {
    "name": "ipython",
    "version": 3
   },
   "file_extension": ".py",
   "mimetype": "text/x-python",
   "name": "python",
   "nbconvert_exporter": "python",
   "pygments_lexer": "ipython3",
   "version": "3.8.10"
  },
  "orig_nbformat": 4
 },
 "nbformat": 4,
 "nbformat_minor": 2
}
