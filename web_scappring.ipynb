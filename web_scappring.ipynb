{
 "cells": [
  {
   "cell_type": "code",
   "execution_count": 118,
   "metadata": {},
   "outputs": [],
   "source": [
    "from bs4 import BeautifulSoup\n",
    "import requests\n",
    "from lxml import etree\n",
    "import json"
   ]
  },
  {
   "cell_type": "code",
   "execution_count": 119,
   "metadata": {},
   "outputs": [],
   "source": [
    "def url_bidet():\n",
    "    # URL de la page à scraper\n",
    "    url = 'https://eu.toto.com/fr/produits/washlet'\n",
    "\n",
    "    # Récupération du contenu HTML de la page\n",
    "    response = requests.get(url)\n",
    "\n",
    "    # Analyse du contenu HTML avec BeautifulSoup\n",
    "    soup = BeautifulSoup(response.content, 'html.parser')\n",
    "\n",
    "    # Recherche de tous les liens sur la page\n",
    "    links = soup.find_all('a')\n",
    "    # Filtrage des liens qui commencent par l'URL spécifiée\n",
    "    washlet_links = []\n",
    "    for link in links:\n",
    "        href = link.get('href')\n",
    "        if href and href.startswith('/fr/produits/washlet'):\n",
    "            if href != ('/fr/produits/washlet'):\n",
    "                washlet_links.append(href)\n",
    "    return washlet_links "
   ]
  },
  {
   "cell_type": "code",
   "execution_count": 120,
   "metadata": {},
   "outputs": [],
   "source": [
    "def infos_bidets():\n",
    "    infos_wc = {}\n",
    "    i = 0\n",
    "\n",
    "    for link in url_bidet():\n",
    "        print(f'https://eu.toto.com/{link}')\n",
    "        response = requests.get(f'https://eu.toto.com/{link}')\n",
    "        # pour récupérer le titre du bidet\n",
    "        soup_html = BeautifulSoup(response.content, 'html.parser')\n",
    "        # pour récupérer les autres données => toutes les div possèdent la même class\n",
    "        soup_xpath = BeautifulSoup(response.content, 'lxml')\n",
    "\n",
    "        title = soup_html.find('h1').text.strip()\n",
    "        infos_wc[i] = {}\n",
    "        infos_wc[i][f'titre'] = title\n",
    "\n",
    "        # Convertir l'objet BeautifulSoup en objet d'arbre XPath\n",
    "        root = etree.HTML(str(soup_xpath))\n",
    "        ref = root.xpath('//*[@id=\"productDetailsWrapper\"]/section[1]/div[1]/div[2]')[0].text.strip()\n",
    "        dimensions = root.xpath('//*[@id=\"productDetailsWrapper\"]/section[1]/div[3]/div[2]')[0].text.strip()\n",
    "        couleur = root.xpath('//*[@id=\"productDetailsWrapper\"]/section[1]/div[4]/div[2]')[0].text.strip()\n",
    "        if len(root.xpath('//*[@id=\"productDetailsWrapper\"]/section[1]/div[5]/div[2]')) > 1:\n",
    "            materiel = root.xpath('//*[@id=\"productDetailsWrapper\"]/section[1]/div[5]/div[2]')[0].text.strip()\n",
    "            infos_wc[i]['materiel'] = materiel\n",
    "        infos_wc[i]['ref'] = ref\n",
    "        infos_wc[i]['dimension'] = dimensions\n",
    "        infos_wc[i]['couleur'] = couleur\n",
    "        i += 1\n",
    "\n",
    "    return infos_wc"
   ]
  },
  {
   "cell_type": "code",
   "execution_count": 121,
   "metadata": {},
   "outputs": [],
   "source": [
    "def conversion_json():\n",
    "    # Convertir le dictionnaire en chaîne JSON\n",
    "    json_data = json.dumps(infos_bidets())\n",
    "\n",
    "    # Écrire la chaîne JSON dans un fichier\n",
    "    with open('nfos_bidets.json', 'w') as f:\n",
    "        f.write(json_data)"
   ]
  },
  {
   "cell_type": "code",
   "execution_count": 122,
   "metadata": {},
   "outputs": [
    {
     "name": "stdout",
     "output_type": "stream",
     "text": [
      "https://eu.toto.com//fr/produits/washlet/CW522ERY\n",
      "https://eu.toto.com//fr/produits/washlet/TCF996WGE%23NW1\n",
      "https://eu.toto.com//fr/produits/washlet/TCF994RWGE\n",
      "https://eu.toto.com//fr/produits/washlet/CW542ERY\n",
      "https://eu.toto.com//fr/produits/washlet/TCF996RWG\n",
      "https://eu.toto.com//fr/produits/washlet/TCF994RWG\n",
      "https://eu.toto.com//fr/produits/washlet/TCF803CG\n",
      "https://eu.toto.com//fr/produits/washlet/TCF804C2G\n",
      "https://eu.toto.com//fr/produits/washlet/TCF801CG\n",
      "https://eu.toto.com//fr/produits/washlet/TCF802C2G\n",
      "https://eu.toto.com//fr/produits/washlet/TCF894CG\n",
      "https://eu.toto.com//fr/produits/washlet/TCF895CG\n",
      "https://eu.toto.com//fr/produits/washlet/TCF896CG\n",
      "https://eu.toto.com//fr/produits/washlet/TCF897CG\n",
      "https://eu.toto.com//fr/produits/washlet/TCF34270GEU\n",
      "https://eu.toto.com//fr/produits/washlet/TCF34170GEU\n",
      "https://eu.toto.com//fr/produits/washlet/TCF34120GEU\n",
      "https://eu.toto.com//fr/produits/washlet/CW553EY\n",
      "https://eu.toto.com//fr/produits/washlet/TCF34120GGB\n",
      "https://eu.toto.com//fr/produits/washlet/TCF6532C3GV1\n",
      "https://eu.toto.com//fr/produits/washlet/TCF6632G%23NW1\n"
     ]
    }
   ],
   "source": [
    "conversion_json()"
   ]
  }
 ],
 "metadata": {
  "kernelspec": {
   "display_name": ".venv",
   "language": "python",
   "name": "python3"
  },
  "language_info": {
   "codemirror_mode": {
    "name": "ipython",
    "version": 3
   },
   "file_extension": ".py",
   "mimetype": "text/x-python",
   "name": "python",
   "nbconvert_exporter": "python",
   "pygments_lexer": "ipython3",
   "version": "3.10.9"
  },
  "orig_nbformat": 4
 },
 "nbformat": 4,
 "nbformat_minor": 2
}
